{
 "cells": [
  {
   "cell_type": "markdown",
   "metadata": {},
   "source": [
    "## Final Project Submission\n",
    "\n",
    "Please fill out:\n",
    "* Student name: clyde ochieng\n",
    "* Student pace: full time\n",
    "* Scheduled project review date/time: \n",
    "* Instructor name: Nikita  \n",
    "* Blog post URL:\n"
   ]
  },
  {
   "cell_type": "markdown",
   "metadata": {},
   "source": [
    "# Kings County Housing Analysis with Multiple Linear Regression"
   ]
  },
  {
   "cell_type": "markdown",
   "metadata": {},
   "source": [
    "## Overview\n",
    "\n",
    "\n",
    "In the grand scheme of things, a youthful duo is in the midst of orchestrating the sale of their abode, harboring aspirations to elevate its market worth with minimal financial resources allocated for refurbishments. In a strategic move, the couple has opted to employ Multiple Linear Regression Modeling to meticulously scrutinize and prognosticate house sales trends in King County, leveraging specific attributes or variables. This analytical approach is poised to empower them with insights to navigate the market intelligently, thereby facilitating judicious decisions for maximizing profitability.\n",
    "\n",
    "Following a rigorous evaluation process and numerous iterations of our linear regression models, it has been ascertained that the dimensions of living space and the quality grade of the construction exhibit the most pronounced correlation with an augmented selling price of the property."
   ]
  },
  {
   "cell_type": "markdown",
   "metadata": {},
   "source": [
    "## Business Problem\n",
    "\n",
    "\n",
    "The business quandary at hand revolves around providing insightful counsel to prospective homeowners regarding the potential impact of home renovations on the estimated value of their properties, alongside quantifying the magnitude of such enhancements.\n",
    "\n",
    "In addressing this issue, we aim to equip homeowners, both buyers and sellers, with invaluable insights that can inform their decisions in the real estate market. Our focus lies in scrutinizing key factors such as building grade and square footage of living space, among others, to unveil the correlations that exist between these features and home sale prices. This comprehensive analysis seeks to elucidate the most influential attributes driving property values, thereby empowering stakeholders to make informed and strategic decisions pertaining to their real estate endeavors."
   ]
  },
  {
   "cell_type": "markdown",
   "metadata": {},
   "source": [
    "### Hypothesis\n",
    "\n",
    "\n",
    "In crafting our hypotheses, we put forward the following propositions:\n",
    "\n",
    "Null Hypothesis (H0): Within our model, we posit that there is an absence of any substantial association between the independent variables and the dependent variable (target).\n",
    "\n",
    "Alternative Hypothesis (H1): Contrarily, we assert that a meaningful relationship does exist between the independent variables and the dependent variable (target) within our model.\n",
    "\n",
    "To guide our analytical journey and ensure robust conclusions, we have established a significance level (alpha) of 0.05. This chosen threshold will serve as a pivotal benchmark against which we evaluate the statistical significance of our findings and shape our ultimate recommendations for stakeholders."
   ]
  },
  {
   "cell_type": "markdown",
   "metadata": {},
   "source": [
    "### Questions to be analyzed\n",
    "\n",
    "\n",
    "Let's articulate the questions we aim to explore through our analysis:\n",
    "\n",
    "Q1: Which features show the strongest correlation with the price of a home?\n",
    "\n",
    "Q2: Among the predicting variables, which features exhibit the most significant correlations with each other?\n",
    "\n",
    "Q3: What combinations of features offer the most reliable predictions for home prices?\n",
    "\n",
    "These questions form the cornerstone of our investigation, guiding our efforts to uncover key insights that will assist homeowners, buyers, and sellers alike in navigating the complex landscape of real estate with confidence and clarity."
   ]
  },
  {
   "cell_type": "markdown",
   "metadata": {},
   "source": [
    "## Data Understanding\n",
    "\n",
    "\n",
    "In our quest to gain a comprehensive understanding of the data under scrutiny, we turn our attention to the King County Housing dataset. This dataset encapsulates a wealth of information pertaining to over 21,000 homes situated in King County.\n",
    "\n",
    "Each entry in the dataset provides detailed insights into various attributes of the homes, encompassing factors such as the number of bedrooms, bathrooms, and floors, as well as the square footage of both living space and lot, the zip code, building grade, and condition, among others.\n",
    "\n",
    "The dataset comprises a multitude of features, each potentially contributing to the final sale price of homes in King County. Below, we delineate the descriptions of these features, laying the groundwork for a thorough exploration and analysis."
   ]
  },
  {
   "cell_type": "markdown",
   "metadata": {},
   "source": [
    "##### King County Housing Data Columns \n",
    "\n",
    "Below is a comprehensive breakdown of the columns present in the King County Housing dataset:\n",
    "\n",
    "- `id`: A unique identifier assigned to each house.\n",
    "- `date`: The date on which the house was sold. (This column will be ignored for our analysis.)\n",
    "- `price`: The sale price of the house, serving as our prediction target.\n",
    "- `bedrooms`: The number of bedrooms in the house.\n",
    "- `bathrooms`: The number of bathrooms in the house.\n",
    "- `sqft_living`: The square footage of the living space within the house.\n",
    "- `sqft_lot`: The square footage of the lot on which the house is situated.\n",
    "- `floors`: The number of floors or levels present in the house.\n",
    "- `waterfront`: A binary indicator denoting whether the house is situated on a waterfront.\n",
    "- `view`: An indication of the quality of the view from the house. (This column will be ignored for our analysis.)\n",
    "- `condition`: An assessment of the overall condition of the house.\n",
    "- `grade`: An overall grade assigned to the house.\n",
    "- `sqft_above`: The square footage of the house, excluding the basement. (This column will be ignored for our analysis.)\n",
    "- `sqft_basement`: The square footage of the basement within the house. (This column will be ignored for our analysis.)\n",
    "- `yr_built`: The year in which the house was built.\n",
    "- `yr_renovated`: The year in which the house was renovated. (This column will be ignored for our analysis.)\n",
    "- `zipcode`: The ZIP code corresponding to the location of the house. (This column will be ignored for our analysis.)\n",
    "- `lat`: The latitude coordinate of the house. (This column will be ignored for our analysis.)\n",
    "- `long`: The longitude coordinate of the house. (This column will be ignored for our analysis.)\n",
    "- `sqft_living15`: The square footage of interior housing living space for the nearest 15 neighbors. (This column will be ignored for our analysis.)\n",
    "- `sqft_lot15`: The square footage of the land lots of the nearest 15 neighbors. (This column will be ignored for our analysis.)\n"
   ]
  },
  {
   "cell_type": "markdown",
   "metadata": {},
   "source": [
    "### Explotory Data Analyis\n",
    "\n",
    "As we set sail on our journey of exploration, our first port of call involves the pivotal task of importing the dataset. This foundational step lays the groundwork for our subsequent analyses and insights, ushering us into the realm of data-driven discovery and understanding."
   ]
  }
 ],
 "metadata": {
  "kernelspec": {
   "display_name": "Python 3",
   "language": "python",
   "name": "python3"
  },
  "language_info": {
   "codemirror_mode": {
    "name": "ipython",
    "version": 3
   },
   "file_extension": ".py",
   "mimetype": "text/x-python",
   "name": "python",
   "nbconvert_exporter": "python",
   "pygments_lexer": "ipython3",
   "version": "3.6.4"
  }
 },
 "nbformat": 4,
 "nbformat_minor": 2
}
