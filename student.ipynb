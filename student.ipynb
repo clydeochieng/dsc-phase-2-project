{
  "cells": [
    {
      "cell_type": "markdown",
      "metadata": {},
      "source": [
        "## Final Project Submission\n",
        "\n",
        "* Student name: Solphine Joseph, Grace Rotich, Mathew Kiprotich, Hilary Simiyu, Clyde Ochieng. \n",
        "* Student pace:  full time\n",
        "* Scheduled project review date/time: \n",
        "* Instructor name: Nikita \n",
        "* Blog post URL:\n"
      ]
    },
    {
      "cell_type": "markdown",
      "metadata": {},
      "source": [
        "# Kings County Housing Analysis with Multiple Linear Regression"
      ]
    },
    {
      "cell_type": "markdown",
      "metadata": {},
      "source": [
        "## Overview\n",
        "\n",
        "A real estate agency in Kingsway seeks to determine what are the contributing factors that affect the price of houses to make improvements where necessary. They want to employ an analytical approach rather than sentimental before arriving at a decision. Multilinear regression has been used for this project to understand how various features affect their pricing to better their services."
      ]
    },
    {
      "cell_type": "markdown",
      "metadata": {},
      "source": [
        "## Business Problem\n",
        "\n",
        "In the face of market fluctuations and heightened competition within the real estate sector, our agency is grappling with pricing volatility, which poses significant challenges for our agents in devising effective business strategies. We seek strategic guidance to optimize our purchasing and selling endeavors, prioritizing informed decision-making to identify key areas of focus that promise maximum returns on investment."
      ]
    },
    {
      "cell_type": "markdown",
      "metadata": {},
      "source": [
        "### Objectives\n",
        "* To determine the key factors influencing house prices.\n",
        "* To develop multilinear regression models to predict house prices based on relevant features.\n",
        "* To use insights from the regression analysis to optimize pricing strategies for both purchasing and selling properties.\n"
      ]
    },
    {
      "cell_type": "markdown",
      "metadata": {},
      "source": [
        "### Hypothesis\n",
        "* Null Hypothesis - There is no relationship between our independent variables and our dependent variable \n",
        "\n",
        "* Alternative Hypothesis - There is a relationship between our independent variables and our dependent variable"
      ]
    },
    {
      "cell_type": "markdown",
      "metadata": {},
      "source": [
        "### Data Understanding:\n",
        "\n",
        "In this project, we utilized the King County House Sales dataset, which serves as the foundational dataset for our analysis. It was sourced Kaggle.The dataset encompasses comprehensive information regarding house sales within King County, Washington, USA. It comprises a diverse array of features, including the number of bedrooms, bathrooms, square footage, as well as geographical and pricing details of the properties sold. This dataset is frequently employed in data science and machine learning endeavors, particularly for predictive modeling tasks such as regression analysis aimed at forecasting house prices based on the provided features."
      ]
    },
    {
      "cell_type": "markdown",
      "metadata": {},
      "source": [
        "##### King County Housing Data Columns \n",
        "\n",
        "The column names contained in column_names.md are:\n",
        "* `id`: A unique identifier for each house sale.\n",
        "* `date`: The date when the house was sold.\n",
        "* `price`: The sale price of the house, serving as the target variable for predictive modeling.\n",
        "* `bedrooms`, `bathrooms`, `sqft_living`, `sqft_lot`: Numerical features representing the number of bedrooms and bathrooms, as well as the living area and lot area of the house, respectively.\n",
        "* `floors`: The number of floors in the house.\n",
        "* `waterfront`, `view`, `condition`, `grade`: Categorical features describing aspects such as waterfront availability, property view, condition, and overall grade assigned to the housing unit.\n",
        "* `yr_built`, `yr_renovated`: Year of construction and renovation of the house.\n",
        "* `zipcode`, `lat`, `long`: Geographical features including ZIP code, latitude, and longitude coordinates.\n",
        "* `sqft_above`, `sqft_basement`, `sqft_living15`, `sqft_lot15`: Additional numerical features providing details about the house's above-ground and basement square footage, as well as living area and lot area of the nearest 15 neighboring houses."
      ]
    },
    {
      "cell_type": "markdown",
      "metadata": {},
      "source": [
        "## Data Loading\n",
        "\n"
      ]
    },
    {
      "cell_type": "code",
      "execution_count": 1,
      "metadata": {},
      "outputs": [],
      "source": [
        "# Creating a function that loads data and return it in a dataframe\n",
        "def load_data(file_path):\n",
        "    house_data = pd.read_csv(file_path)\n",
        "\n",
        "    #shape\n",
        "    shape = house_data.shape\n",
        "    print(f\"The dataset contains {shape[0]} houses with {shape[1]} features\")\n",
        "    print()\n",
        "    \n",
        "    #Data Types\n",
        "    data_types = house_data.dtypes\n",
        "    print(\"Columns and their data types:\")\n",
        "    for column, dtype in data_types.items():\n",
        "        print(f\"{column}: {dtype}\")\n",
        "    print()\n",
        "\n",
        "    return house_data\n"
      ]
    },
    {
      "cell_type": "code",
      "execution_count": 2,
      "metadata": {},
      "outputs": [
        {
          "ename": "NameError",
          "evalue": "name 'pd' is not defined",
          "output_type": "error",
          "traceback": [
            "\u001b[1;31m---------------------------------------------------------------------------\u001b[0m",
            "\u001b[1;31mNameError\u001b[0m                                 Traceback (most recent call last)",
            "Cell \u001b[1;32mIn[2], line 1\u001b[0m\n\u001b[1;32m----> 1\u001b[0m load_data(\u001b[38;5;124m'\u001b[39m\u001b[38;5;124mdata/kc_house_data.csv\u001b[39m\u001b[38;5;124m'\u001b[39m)\n",
            "Cell \u001b[1;32mIn[1], line 3\u001b[0m, in \u001b[0;36mload_data\u001b[1;34m(file_path)\u001b[0m\n\u001b[0;32m      2\u001b[0m \u001b[38;5;28;01mdef\u001b[39;00m \u001b[38;5;21mload_data\u001b[39m(file_path):\n\u001b[1;32m----> 3\u001b[0m     house_data \u001b[38;5;241m=\u001b[39m pd\u001b[38;5;241m.\u001b[39mread_csv(file_path)\n\u001b[0;32m      5\u001b[0m     \u001b[38;5;66;03m#shape\u001b[39;00m\n\u001b[0;32m      6\u001b[0m     shape \u001b[38;5;241m=\u001b[39m house_data\u001b[38;5;241m.\u001b[39mshape\n",
            "\u001b[1;31mNameError\u001b[0m: name 'pd' is not defined"
          ]
        }
      ],
      "source": [
        "load_data('data/kc_house_data.csv')  # Assuming 'data' folder is in the same directory\n",
        "\n",
        "\n"
      ]
    },
    {
      "cell_type": "markdown",
      "metadata": {},
      "source": [
        "The dataset contains 21 columns, each representing a distinct feature, and 21,597 rows, with each row corresponding to a specific house sale entry.\n",
        "\n",
        "The dataset contains a mix of data types, including integers (int64), floating-point numbers (float64), and objects (strings).  For instance, numerical features such as bedrooms, bathrooms, and sqft_living are represented as integers or floating-point numbers to facilitate mathematical computations, while categorical features like waterfront and view are stored as objects to accommodate text-based categories."
      ]
    },
    {
      "cell_type": "code",
      "execution_count": null,
      "metadata": {},
      "outputs": [
        {
          "name": "stdout",
          "output_type": "stream",
          "text": [
            "The dataset contains 21597 houses with 21 features\n",
            "\n",
            "Columns and their data types:\n",
            "id: int64\n",
            "date: object\n",
            "price: float64\n",
            "bedrooms: int64\n",
            "bathrooms: float64\n",
            "sqft_living: int64\n",
            "sqft_lot: int64\n",
            "floors: float64\n",
            "waterfront: object\n",
            "view: object\n",
            "condition: object\n",
            "grade: object\n",
            "sqft_above: int64\n",
            "sqft_basement: object\n",
            "yr_built: int64\n",
            "yr_renovated: float64\n",
            "zipcode: int64\n",
            "lat: float64\n",
            "long: float64\n",
            "sqft_living15: int64\n",
            "sqft_lot15: int64\n",
            "\n"
          ]
        }
      ],
      "source": [
        "kings_data = load_data('data/kc_house_data.csv')"
      ]
    },
    {
      "cell_type": "code",
      "execution_count": null,
      "metadata": {},
      "outputs": [],
      "source": [
        "#create a function that takes in a column and returns the column statistics as a dictionary\n",
        "def descriptive_analytics(column):\n",
        "    stats_dict = column.describe().to_dict()\n",
        "    \n",
        "    print(\"Descriptive Statistics for Column '{}':\".format(column.name))\n",
        "    print(\"The count of the column is:\", stats_dict['count'])\n",
        "    print(\"The mean of the column is:\", stats_dict['mean'])\n",
        "    print(\"The standard deviation of the column is:\", stats_dict['std'])\n",
        "    print(\"The minimum value of the column is:\", stats_dict['min'])\n",
        "    print(\"The 25th percentile of the column is:\", stats_dict['25%'])\n",
        "    print(\"The median of the column is:\", stats_dict['50%'])\n",
        "    print(\"The 75th percentile of the column is:\", stats_dict['75%'])\n",
        "    print(\"The maximum value of the column is:\", stats_dict['max'])"
      ]
    },
    {
      "cell_type": "code",
      "execution_count": null,
      "metadata": {},
      "outputs": [
        {
          "name": "stdout",
          "output_type": "stream",
          "text": [
            "Descriptive Statistics for Column 'price':\n",
            "The count of the column is: 21597.0\n",
            "The mean of the column is: 540296.5735055795\n",
            "The standard deviation of the column is: 367368.1401013936\n",
            "The minimum value of the column is: 78000.0\n",
            "The 25th percentile of the column is: 322000.0\n",
            "The median of the column is: 450000.0\n",
            "The 75th percentile of the column is: 645000.0\n",
            "The maximum value of the column is: 7700000.0\n"
          ]
        }
      ],
      "source": [
        "descriptive_analytics(kings_data['price'])"
      ]
    },
    {
      "cell_type": "markdown",
      "metadata": {},
      "source": [
        "We can see that the maximum price of a house is 7700000 dollars  and the minimum price is 78000 dollars\n",
        "\n",
        "There are 21597 prices regarding to the houses in the dataset\n",
        "\n",
        "Average price of a house is 540296.57 dollars"
      ]
    },
    {
      "cell_type": "markdown",
      "metadata": {},
      "source": [
        "## Data Preperation\n",
        "\n"
      ]
    },
    {
      "cell_type": "code",
      "execution_count": null,
      "metadata": {},
      "outputs": [
        {
          "name": "stdout",
          "output_type": "stream",
          "text": [
            "<class 'pandas.core.frame.DataFrame'>\n",
            "RangeIndex: 21597 entries, 0 to 21596\n",
            "Data columns (total 21 columns):\n",
            " #   Column         Non-Null Count  Dtype  \n",
            "---  ------         --------------  -----  \n",
            " 0   id             21597 non-null  int64  \n",
            " 1   date           21597 non-null  object \n",
            " 2   price          21597 non-null  float64\n",
            " 3   bedrooms       21597 non-null  int64  \n",
            " 4   bathrooms      21597 non-null  float64\n",
            " 5   sqft_living    21597 non-null  int64  \n",
            " 6   sqft_lot       21597 non-null  int64  \n",
            " 7   floors         21597 non-null  float64\n",
            " 8   waterfront     19221 non-null  object \n",
            " 9   view           21534 non-null  object \n",
            " 10  condition      21597 non-null  object \n",
            " 11  grade          21597 non-null  object \n",
            " 12  sqft_above     21597 non-null  int64  \n",
            " 13  sqft_basement  21597 non-null  object \n",
            " 14  yr_built       21597 non-null  int64  \n",
            " 15  yr_renovated   17755 non-null  float64\n",
            " 16  zipcode        21597 non-null  int64  \n",
            " 17  lat            21597 non-null  float64\n",
            " 18  long           21597 non-null  float64\n",
            " 19  sqft_living15  21597 non-null  int64  \n",
            " 20  sqft_lot15     21597 non-null  int64  \n",
            "dtypes: float64(6), int64(9), object(6)\n",
            "memory usage: 3.5+ MB\n"
          ]
        }
      ],
      "source": [
        "kings_data.info()"
      ]
    },
    {
      "cell_type": "code",
      "execution_count": null,
      "metadata": {},
      "outputs": [],
      "source": [
        "def identify_issues(dataset):\n",
        "    # Identify missing values as a percentage of the whole dataset\n",
        "    missing_values = (dataset.isnull().sum())/len(dataset) * 100\n",
        "\n",
        "    # Identify duplicates\n",
        "    duplicates = dataset.duplicated().sum()\n",
        "    \n",
        "    #return a dictionary \n",
        "    return {'duplicates': duplicates,\n",
        "            'missing values': missing_values.round(2)}   \n"
      ]
    },
    {
      "cell_type": "code",
      "execution_count": null,
      "metadata": {},
      "outputs": [
        {
          "data": {
            "text/plain": [
              "{'duplicates': 0,\n",
              " 'missing values': id                0.00\n",
              " date              0.00\n",
              " price             0.00\n",
              " bedrooms          0.00\n",
              " bathrooms         0.00\n",
              " sqft_living       0.00\n",
              " sqft_lot          0.00\n",
              " floors            0.00\n",
              " waterfront       11.00\n",
              " view              0.29\n",
              " condition         0.00\n",
              " grade             0.00\n",
              " sqft_above        0.00\n",
              " sqft_basement     0.00\n",
              " yr_built          0.00\n",
              " yr_renovated     17.79\n",
              " zipcode           0.00\n",
              " lat               0.00\n",
              " long              0.00\n",
              " sqft_living15     0.00\n",
              " sqft_lot15        0.00\n",
              " dtype: float64}"
            ]
          },
          "execution_count": 9,
          "metadata": {},
          "output_type": "execute_result"
        }
      ],
      "source": [
        "identify_issues(kings_data)"
      ]
    },
    {
      "cell_type": "markdown",
      "metadata": {},
      "source": [
        "The examination indicates that there are no duplicate entries within the dataset, ensuring the integrity of the records. However, attention is warranted to address missing values present in certain columns. Specifically, the 'waterfront' feature exhibits 11% of null values, representing a negligible portion of the dataset. Similarly, the 'yr_renovated' feature shows a relatively higher percentage of missing values, accounting for approximately 17.79% of the dataset"
      ]
    },
    {
      "cell_type": "markdown",
      "metadata": {},
      "source": [
        "##### Before making changes make a copy instead of overwriting data"
      ]
    },
    {
      "cell_type": "code",
      "execution_count": null,
      "metadata": {},
      "outputs": [],
      "source": [
        "house_data_clean = kings_data.copy()"
      ]
    },
    {
      "cell_type": "code",
      "execution_count": null,
      "metadata": {},
      "outputs": [],
      "source": [
        "# Changing the date to date time\n",
        "house_data_clean['date'] = pd.to_datetime(house_data_clean['date'])\n",
        "\n",
        "# Extracting only the year from the column Date\n",
        "house_data_clean.date = house_data_clean['date'].dt.year\n",
        "\n",
        "# Changing the dates for the year built \n",
        "house_data_clean['yr_built'] = pd.to_datetime(house_data_clean['yr_built'],format='%Y').dt.year\n"
      ]
    },
    {
      "cell_type": "markdown",
      "metadata": {},
      "source": [
        "The above code converts the 'date' column data to only contain the year the house was sold, for the purpose of analysis we will use only the year since the changes month by month will be minor."
      ]
    },
    {
      "cell_type": "markdown",
      "metadata": {},
      "source": [
        "#### Dealing with the missing values"
      ]
    },
    {
      "cell_type": "code",
      "execution_count": null,
      "metadata": {},
      "outputs": [],
      "source": [
        "def missing_values(dataset):\n",
        "    # drop the rows from views\n",
        "    dataset.dropna(subset=['view'],inplace=True)\n",
        "\n",
        "    # Filling the NaN values for waterfront with NO\n",
        "    dataset.waterfront.fillna('NO',inplace=True)\n",
        "    \n",
        "    # Dropping the yr_renovated column \n",
        "    dataset.drop('yr_renovated',axis=1,inplace=True)"
      ]
    },
    {
      "cell_type": "code",
      "execution_count": null,
      "metadata": {},
      "outputs": [],
      "source": [
        "missing_values(house_data_clean)"
      ]
    },
    {
      "cell_type": "markdown",
      "metadata": {},
      "source": [
        "'yr_renovated' has the highest percentage of NaN values 17%. This will be dropped since it will not be used within our model inline with the business problem.\n",
        "\n",
        "'Waterfront' feature has 11% null values, this was filled with NO on the assumption that these cells were not filled since they lacked waterfronts\n",
        "\n",
        "For the 'View' column, the null values were dropped by row since the overall percentage impact would be minute"
      ]
    },
    {
      "cell_type": "code",
      "execution_count": null,
      "metadata": {},
      "outputs": [
        {
          "data": {
            "text/plain": [
              "{'duplicates': 2,\n",
              " 'missing values': id               0.0\n",
              " date             0.0\n",
              " price            0.0\n",
              " bedrooms         0.0\n",
              " bathrooms        0.0\n",
              " sqft_living      0.0\n",
              " sqft_lot         0.0\n",
              " floors           0.0\n",
              " waterfront       0.0\n",
              " view             0.0\n",
              " condition        0.0\n",
              " grade            0.0\n",
              " sqft_above       0.0\n",
              " sqft_basement    0.0\n",
              " yr_built         0.0\n",
              " zipcode          0.0\n",
              " lat              0.0\n",
              " long             0.0\n",
              " sqft_living15    0.0\n",
              " sqft_lot15       0.0\n",
              " dtype: float64}"
            ]
          },
          "execution_count": 14,
          "metadata": {},
          "output_type": "execute_result"
        }
      ],
      "source": [
        "identify_issues(house_data_clean)"
      ]
    },
    {
      "cell_type": "code",
      "execution_count": null,
      "metadata": {},
      "outputs": [
        {
          "data": {
            "text/html": [
              "<div>\n",
              "<style scoped>\n",
              "    .dataframe tbody tr th:only-of-type {\n",
              "        vertical-align: middle;\n",
              "    }\n",
              "\n",
              "    .dataframe tbody tr th {\n",
              "        vertical-align: top;\n",
              "    }\n",
              "\n",
              "    .dataframe thead th {\n",
              "        text-align: right;\n",
              "    }\n",
              "</style>\n",
              "<table border=\"1\" class=\"dataframe\">\n",
              "  <thead>\n",
              "    <tr style=\"text-align: right;\">\n",
              "      <th></th>\n",
              "      <th>id</th>\n",
              "      <th>date</th>\n",
              "      <th>price</th>\n",
              "      <th>bedrooms</th>\n",
              "      <th>bathrooms</th>\n",
              "      <th>sqft_living</th>\n",
              "      <th>sqft_lot</th>\n",
              "      <th>floors</th>\n",
              "      <th>waterfront</th>\n",
              "      <th>view</th>\n",
              "      <th>condition</th>\n",
              "      <th>grade</th>\n",
              "      <th>sqft_above</th>\n",
              "      <th>sqft_basement</th>\n",
              "      <th>yr_built</th>\n",
              "      <th>zipcode</th>\n",
              "      <th>lat</th>\n",
              "      <th>long</th>\n",
              "      <th>sqft_living15</th>\n",
              "      <th>sqft_lot15</th>\n",
              "    </tr>\n",
              "  </thead>\n",
              "  <tbody>\n",
              "    <tr>\n",
              "      <th>3947</th>\n",
              "      <td>1825069031</td>\n",
              "      <td>2014</td>\n",
              "      <td>550000.0</td>\n",
              "      <td>4</td>\n",
              "      <td>1.75</td>\n",
              "      <td>2410</td>\n",
              "      <td>8447</td>\n",
              "      <td>2.0</td>\n",
              "      <td>NO</td>\n",
              "      <td>GOOD</td>\n",
              "      <td>Good</td>\n",
              "      <td>8 Good</td>\n",
              "      <td>2060</td>\n",
              "      <td>350.0</td>\n",
              "      <td>1936</td>\n",
              "      <td>98074</td>\n",
              "      <td>47.6499</td>\n",
              "      <td>-122.088</td>\n",
              "      <td>2520</td>\n",
              "      <td>14789</td>\n",
              "    </tr>\n",
              "    <tr>\n",
              "      <th>20038</th>\n",
              "      <td>8648900110</td>\n",
              "      <td>2014</td>\n",
              "      <td>555000.0</td>\n",
              "      <td>3</td>\n",
              "      <td>2.50</td>\n",
              "      <td>1940</td>\n",
              "      <td>3211</td>\n",
              "      <td>2.0</td>\n",
              "      <td>NO</td>\n",
              "      <td>NONE</td>\n",
              "      <td>Average</td>\n",
              "      <td>8 Good</td>\n",
              "      <td>1940</td>\n",
              "      <td>0.0</td>\n",
              "      <td>2009</td>\n",
              "      <td>98027</td>\n",
              "      <td>47.5644</td>\n",
              "      <td>-122.093</td>\n",
              "      <td>1880</td>\n",
              "      <td>3078</td>\n",
              "    </tr>\n",
              "  </tbody>\n",
              "</table>\n",
              "</div>"
            ],
            "text/plain": [
              "               id  date     price  bedrooms  bathrooms  sqft_living  sqft_lot  \\\n",
              "3947   1825069031  2014  550000.0         4       1.75         2410      8447   \n",
              "20038  8648900110  2014  555000.0         3       2.50         1940      3211   \n",
              "\n",
              "       floors waterfront  view condition   grade  sqft_above sqft_basement  \\\n",
              "3947      2.0         NO  GOOD      Good  8 Good        2060         350.0   \n",
              "20038     2.0         NO  NONE   Average  8 Good        1940           0.0   \n",
              "\n",
              "       yr_built  zipcode      lat     long  sqft_living15  sqft_lot15  \n",
              "3947       1936    98074  47.6499 -122.088           2520       14789  \n",
              "20038      2009    98027  47.5644 -122.093           1880        3078  "
            ]
          },
          "execution_count": 15,
          "metadata": {},
          "output_type": "execute_result"
        }
      ],
      "source": [
        "house_data_clean[house_data_clean.duplicated()]"
      ]
    }
  ],
  "metadata": {
    "kernelspec": {
      "display_name": "Python 3",
      "language": "python",
      "name": "python3"
    },
    "language_info": {
      "codemirror_mode": {
        "name": "ipython",
        "version": 3
      },
      "file_extension": ".py",
      "mimetype": "text/x-python",
      "name": "python",
      "nbconvert_exporter": "python",
      "pygments_lexer": "ipython3",
      "version": "3.11.7"
    }
  },
  "nbformat": 4,
  "nbformat_minor": 2
}
