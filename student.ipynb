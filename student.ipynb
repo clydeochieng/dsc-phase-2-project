{
 "cells": [
  {
   "cell_type": "markdown",
   "metadata": {},
   "source": [
    "## Final Project Submission\n",
    "\n",
    "Please fill out:\n",
    "* Student name: Solphine Joseph, Grace Rotich, Mathew Kiprotich, Hilary Simiyu, Derrick Kiptoo Clyde Ochieng.\n",
    "* Student pace:  full time\n",
    "* Scheduled project review date/time: \n",
    "* Instructor name: Nikita \n",
    "* Blog post URL:\n"
   ]
  },
  {
   "cell_type": "markdown",
   "metadata": {},
   "source": [
    "# Kings County Housing Analysis with Multiple Linear Regression"
   ]
  },
  {
   "cell_type": "markdown",
   "metadata": {},
   "source": [
    "## Overview\n",
    "\n",
    "\n",
    "A real estate agency in Kingsway seeks to determine what are the contributing factors that affect the price of houses to make improvements where necessary. They want to employ an analytical approach rather than sentimental before arriving at a decision. Multilinear regression has been used for this project to understand how various features affect their pricing to better their services."
   ]
  },
  {
   "cell_type": "markdown",
   "metadata": {},
   "source": [
    "## Business Problem\n",
    "\n",
    "In the face of market fluctuations and heightened competition within the real estate sector, our agency is grappling with pricing volatility, which poses significant challenges for our agents in devising effective business strategies. We seek strategic guidance to optimize our purchasing and selling endeavors, prioritizing informed decision-making to identify key areas of focus that promise maximum returns on investment."
   ]
  },
  {
   "cell_type": "markdown",
   "metadata": {},
   "source": [
    "### Objectives\n",
    "* To determine the key factors influencing house prices.\n",
    "* To develop multilinear regression models to predict house prices based on relevant features.\n",
    "* To use insights from the regression analysis to optimize pricing strategies for both purchasing and selling properties.\n"
   ]
  },
  {
   "cell_type": "markdown",
   "metadata": {},
   "source": [
    "Data Understanding:\n",
    "\n",
    "The real estate agency in Kingsway is analyzing a dataset to determine the factors affecting house prices. The dataset likely includes features such as property size, location, age, and market trends. Key steps include assessing data quality, exploring relationships between features and prices, and preprocessing data for multilinear regression analysis. Multilinear regression will be used to model how these features collectively influence house prices, with evaluation metrics used to assess predictive accuracy."
   ]
  },
  {
   "cell_type": "markdown",
   "metadata": {},
   "source": [
    "##### King County Housing Data Columns \n",
    "\n",
    "* `id` - Unique identifier for a house\n",
    "* `date` - Date house was sold\n",
    "* `price` - Sale price (prediction target)\n",
    "* `bedrooms` - Number of bedrooms\n",
    "* `bathrooms` - Number of bathrooms\n",
    "* `sqft_living` - Square footage of living space in the home\n",
    "* `sqft_lot` - Square footage of the lot\n",
    "* `floors` - Number of floors (levels) in house\n",
    "* `waterfront` - Whether the house is on a waterfront\n",
    "* `view` - Quality of view from house\n",
    "* `condition` - How good the overall condition of the house is. \n",
    "* `grade` - Overall grade of the house. \n",
    "* `sqft_above` - Square footage of house apart from basement \n",
    "* `sqft_basement` - Square footage of the basement – (Ignored)\n",
    "* `yr_built` - Year when house was built\n",
    "* `yr_renovated` - Year when house was renovated – (Ignored)\n",
    "* `zipcode` - ZIP Code used by the United States Postal Service \n",
    "* `lat` - Latitude coordinate\n",
    "* `long` - Longitude coordinate\n",
    "* `sqft_living15` - The square footage of interior housing living space for the nearest 15 neighbors\n",
    "* `sqft_lot15` - The square footage of the land lots of the nearest 15 neighbors"
   ]
  }
 ],
 "metadata": {
  "kernelspec": {
   "display_name": "Python 3",
   "language": "python",
   "name": "python3"
  },
  "language_info": {
   "codemirror_mode": {
    "name": "ipython",
    "version": 3
   },
   "file_extension": ".py",
   "mimetype": "text/x-python",
   "name": "python",
   "nbconvert_exporter": "python",
   "pygments_lexer": "ipython3",
   "version": "3.10.13"
  }
 },
 "nbformat": 4,
 "nbformat_minor": 2
}
