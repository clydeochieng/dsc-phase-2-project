{
 "cells": [
  {
   "cell_type": "markdown",
   "metadata": {},
   "source": [
    "## Final Project Submission\n",
    "\n",
    "Please fill out:\n",
    "* Students: Solphine Joseph, Mathew Kiprotich, Grace Rotich, Hilary Simiyu, Clyde Ochieng. \n",
    "* Student pace: full time.\n",
    "* Scheduled project review date/time: \n",
    "* Instructor name: Nikita.\n",
    "* Blog post URL: N/A.\n"
   ]
  },
  {
   "cell_type": "markdown",
   "metadata": {},
   "source": [
    "### Overview\n",
    "A real estate agency in Kingsway seeks to determine what are the contributing factors that affect the price of houses to make improvements where necessary. They want to employ an analytical approach rather than sentimental before arriving at a decision. Multilinear regression has been used for this project to understand how various features affect their pricing to better their services."
   ]
  },
  {
   "cell_type": "markdown",
   "metadata": {},
   "source": [
    "### Business Problem \n",
    "The real estate agency is currently navigating through a period of pricing instability and increased competition in the market. This situation is making it challenging for agents to develop effective business strategies. The agency is seeking strategic guidance to optimize its purchasing and selling activities, with a focus on making informed decisions to identify areas that offer the highest returns on investment."
   ]
  },
  {
   "cell_type": "markdown",
   "metadata": {},
   "source": [
    "### Objectives\n",
    "* To determine the key factors influencing house prices.\n",
    "* To develop a multilinear regression model to predict house prices based on relevant features\n",
    "* To use insights from the regression analysis to optimize pricing strategies for both purchasing and selling properties."
   ]
  }
 ],
 "metadata": {
  "kernelspec": {
   "display_name": "Python 3",
   "language": "python",
   "name": "python3"
  },
  "language_info": {
   "codemirror_mode": {
    "name": "ipython",
    "version": 3
   },
   "file_extension": ".py",
   "mimetype": "text/x-python",
   "name": "python",
   "nbconvert_exporter": "python",
   "pygments_lexer": "ipython3",
   "version": "3.6.4"
  }
 },
 "nbformat": 4,
 "nbformat_minor": 2
}
