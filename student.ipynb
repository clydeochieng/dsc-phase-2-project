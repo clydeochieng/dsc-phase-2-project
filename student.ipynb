{
 "cells": [
  {
   "cell_type": "markdown",
   "metadata": {},
   "source": [
    "## Final Project Submission\n",
    "\n",
    "* Student name: Solphine Joseph, Grace Rotich, Mathew Kiprotich, Hilary Simiyu, Clyde Ochieng, Derrick Kiptoo. \n",
    "* Student pace:  full time\n",
    "* Scheduled project review date/time: \n",
    "* Instructor name: Nikita \n",
    "* Blog post URL:\n"
   ]
  },
  {
   "cell_type": "markdown",
   "metadata": {},
   "source": [
    "# Kings County Housing Analysis with Multiple Linear Regression"
   ]
  },
  {
   "cell_type": "markdown",
   "metadata": {},
   "source": [
    "## Overview\n",
    "\n",
    "A real estate agency in Kingsway seeks to determine what are the contributing factors that affect the price of houses to make improvements where necessary. They want to employ an analytical approach rather than sentimental before arriving at a decision. Multilinear regression has been used for this project to understand how various features affect their pricing to better their services."
   ]
  },
  {
   "cell_type": "markdown",
   "metadata": {},
   "source": [
    "## Business Problem\n",
    "\n",
    "In the face of market fluctuations and heightened competition within the real estate sector, our agency is grappling with pricing volatility, which poses significant challenges for our agents in devising effective business strategies. We seek strategic guidance to optimize our purchasing and selling endeavors, prioritizing informed decision-making to identify key areas of focus that promise maximum returns on investment."
   ]
  },
  {
   "cell_type": "markdown",
   "metadata": {},
   "source": [
    "### Objectives\n",
    "* To determine the key factors influencing house prices.\n",
    "* To develop multilinear regression models to predict house prices based on relevant features.\n",
    "* To use insights from the regression analysis to optimize pricing strategies for both purchasing and selling properties.\n"
   ]
  },
  {
   "cell_type": "markdown",
   "metadata": {},
   "source": [
    "### Hypothesis\n",
    "* Null Hypothesis - There is no relationship between our independent variables and our dependent variable \n",
    "\n",
    "* Alternative Hypothesis - There is a relationship between our independent variables and our dependent variable"
   ]
  },
  {
   "cell_type": "markdown",
   "metadata": {},
   "source": [
    "### Data Understanding:\n",
    "\n",
    "In this project, we utilized the King County House Sales dataset, which serves as the foundational dataset for our analysis. It was sourced Kaggle.The dataset encompasses comprehensive information regarding house sales within King County, Washington, USA. It comprises a diverse array of features, including the number of bedrooms, bathrooms, square footage, as well as geographical and pricing details of the properties sold. This dataset is frequently employed in data science and machine learning endeavors, particularly for predictive modeling tasks such as regression analysis aimed at forecasting house prices based on the provided features."
   ]
  },
  {
   "cell_type": "markdown",
   "metadata": {},
   "source": [
    "##### King County Housing Data Columns \n",
    "\n",
    "The column names contained in column_names.md are:\n",
    "* `id`: A unique identifier for each house sale.\n",
    "* `date`: The date when the house was sold.\n",
    "* `price`: The sale price of the house, serving as the target variable for predictive modeling.\n",
    "* `bedrooms`, `bathrooms`, `sqft_living`, `sqft_lot`: Numerical features representing the number of bedrooms and bathrooms, as well as the living area and lot area of the house, respectively.\n",
    "* `floors`: The number of floors in the house.\n",
    "* `waterfront`, `view`, `condition`, `grade`: Categorical features describing aspects such as waterfront availability, property view, condition, and overall grade assigned to the housing unit.\n",
    "* `yr_built`, `yr_renovated`: Year of construction and renovation of the house.\n",
    "* `zipcode`, `lat`, `long`: Geographical features including ZIP code, latitude, and longitude coordinates.\n",
    "* `sqft_above`, `sqft_basement`, `sqft_living15`, `sqft_lot15`: Additional numerical features providing details about the house's above-ground and basement square footage, as well as living area and lot area of the nearest 15 neighboring houses."
   ]
  },
  {
   "cell_type": "markdown",
   "metadata": {},
   "source": [
    "## Data Loading\n",
    "\n",
    "#### Import Necessary Libraries\n",
    "\n"
   ]
  },
  {
   "cell_type": "code",
   "execution_count": 28,
   "metadata": {},
   "outputs": [],
   "source": [
    "import matplotlib.pyplot as plt\n",
    "%matplotlib inline\n",
    "import numpy as np\n",
    "import pandas as pd\n",
    "import scipy.stats as stats\n",
    "import seaborn as sns\n",
    "import statsmodels.api as sm"
   ]
  },
  {
   "cell_type": "code",
   "execution_count": 29,
   "metadata": {},
   "outputs": [],
   "source": [
    "# Creating a function that loads data and return it in a dataframe\n",
    "def load_data(file_path):\n",
    "    house_data = pd.read_csv(file_path)\n",
    "\n",
    "    #shape\n",
    "    shape = house_data.shape\n",
    "    print(f\"The dataset contains {shape[0]} houses with {shape[1]} features\")\n",
    "    print()\n",
    "    \n",
    "    #Data Types\n",
    "    data_types = house_data.dtypes\n",
    "    print(\"Columns and their data types:\")\n",
    "    for column, dtype in data_types.items():\n",
    "        print(f\"{column}: {dtype}\")\n",
    "    print()\n",
    "\n",
    "    return house_data\n"
   ]
  },
  {
   "cell_type": "code",
   "execution_count": 30,
   "metadata": {},
   "outputs": [
    {
     "name": "stdout",
     "output_type": "stream",
     "text": [
      "The dataset contains 21597 houses with 21 features\n",
      "\n",
      "Columns and their data types:\n",
      "id: int64\n",
      "date: object\n",
      "price: float64\n",
      "bedrooms: int64\n",
      "bathrooms: float64\n",
      "sqft_living: int64\n",
      "sqft_lot: int64\n",
      "floors: float64\n",
      "waterfront: object\n",
      "view: object\n",
      "condition: object\n",
      "grade: object\n",
      "sqft_above: int64\n",
      "sqft_basement: object\n",
      "yr_built: int64\n",
      "yr_renovated: float64\n",
      "zipcode: int64\n",
      "lat: float64\n",
      "long: float64\n",
      "sqft_living15: int64\n",
      "sqft_lot15: int64\n",
      "\n"
     ]
    },
    {
     "data": {
      "text/html": [
       "<div>\n",
       "<style scoped>\n",
       "    .dataframe tbody tr th:only-of-type {\n",
       "        vertical-align: middle;\n",
       "    }\n",
       "\n",
       "    .dataframe tbody tr th {\n",
       "        vertical-align: top;\n",
       "    }\n",
       "\n",
       "    .dataframe thead th {\n",
       "        text-align: right;\n",
       "    }\n",
       "</style>\n",
       "<table border=\"1\" class=\"dataframe\">\n",
       "  <thead>\n",
       "    <tr style=\"text-align: right;\">\n",
       "      <th></th>\n",
       "      <th>id</th>\n",
       "      <th>date</th>\n",
       "      <th>price</th>\n",
       "      <th>bedrooms</th>\n",
       "      <th>bathrooms</th>\n",
       "      <th>sqft_living</th>\n",
       "      <th>sqft_lot</th>\n",
       "      <th>floors</th>\n",
       "      <th>waterfront</th>\n",
       "      <th>view</th>\n",
       "      <th>...</th>\n",
       "      <th>grade</th>\n",
       "      <th>sqft_above</th>\n",
       "      <th>sqft_basement</th>\n",
       "      <th>yr_built</th>\n",
       "      <th>yr_renovated</th>\n",
       "      <th>zipcode</th>\n",
       "      <th>lat</th>\n",
       "      <th>long</th>\n",
       "      <th>sqft_living15</th>\n",
       "      <th>sqft_lot15</th>\n",
       "    </tr>\n",
       "  </thead>\n",
       "  <tbody>\n",
       "    <tr>\n",
       "      <th>0</th>\n",
       "      <td>7129300520</td>\n",
       "      <td>10/13/2014</td>\n",
       "      <td>221900.0</td>\n",
       "      <td>3</td>\n",
       "      <td>1.00</td>\n",
       "      <td>1180</td>\n",
       "      <td>5650</td>\n",
       "      <td>1.0</td>\n",
       "      <td>NaN</td>\n",
       "      <td>NONE</td>\n",
       "      <td>...</td>\n",
       "      <td>7 Average</td>\n",
       "      <td>1180</td>\n",
       "      <td>0.0</td>\n",
       "      <td>1955</td>\n",
       "      <td>0.0</td>\n",
       "      <td>98178</td>\n",
       "      <td>47.5112</td>\n",
       "      <td>-122.257</td>\n",
       "      <td>1340</td>\n",
       "      <td>5650</td>\n",
       "    </tr>\n",
       "    <tr>\n",
       "      <th>1</th>\n",
       "      <td>6414100192</td>\n",
       "      <td>12/9/2014</td>\n",
       "      <td>538000.0</td>\n",
       "      <td>3</td>\n",
       "      <td>2.25</td>\n",
       "      <td>2570</td>\n",
       "      <td>7242</td>\n",
       "      <td>2.0</td>\n",
       "      <td>NO</td>\n",
       "      <td>NONE</td>\n",
       "      <td>...</td>\n",
       "      <td>7 Average</td>\n",
       "      <td>2170</td>\n",
       "      <td>400.0</td>\n",
       "      <td>1951</td>\n",
       "      <td>1991.0</td>\n",
       "      <td>98125</td>\n",
       "      <td>47.7210</td>\n",
       "      <td>-122.319</td>\n",
       "      <td>1690</td>\n",
       "      <td>7639</td>\n",
       "    </tr>\n",
       "    <tr>\n",
       "      <th>2</th>\n",
       "      <td>5631500400</td>\n",
       "      <td>2/25/2015</td>\n",
       "      <td>180000.0</td>\n",
       "      <td>2</td>\n",
       "      <td>1.00</td>\n",
       "      <td>770</td>\n",
       "      <td>10000</td>\n",
       "      <td>1.0</td>\n",
       "      <td>NO</td>\n",
       "      <td>NONE</td>\n",
       "      <td>...</td>\n",
       "      <td>6 Low Average</td>\n",
       "      <td>770</td>\n",
       "      <td>0.0</td>\n",
       "      <td>1933</td>\n",
       "      <td>NaN</td>\n",
       "      <td>98028</td>\n",
       "      <td>47.7379</td>\n",
       "      <td>-122.233</td>\n",
       "      <td>2720</td>\n",
       "      <td>8062</td>\n",
       "    </tr>\n",
       "    <tr>\n",
       "      <th>3</th>\n",
       "      <td>2487200875</td>\n",
       "      <td>12/9/2014</td>\n",
       "      <td>604000.0</td>\n",
       "      <td>4</td>\n",
       "      <td>3.00</td>\n",
       "      <td>1960</td>\n",
       "      <td>5000</td>\n",
       "      <td>1.0</td>\n",
       "      <td>NO</td>\n",
       "      <td>NONE</td>\n",
       "      <td>...</td>\n",
       "      <td>7 Average</td>\n",
       "      <td>1050</td>\n",
       "      <td>910.0</td>\n",
       "      <td>1965</td>\n",
       "      <td>0.0</td>\n",
       "      <td>98136</td>\n",
       "      <td>47.5208</td>\n",
       "      <td>-122.393</td>\n",
       "      <td>1360</td>\n",
       "      <td>5000</td>\n",
       "    </tr>\n",
       "    <tr>\n",
       "      <th>4</th>\n",
       "      <td>1954400510</td>\n",
       "      <td>2/18/2015</td>\n",
       "      <td>510000.0</td>\n",
       "      <td>3</td>\n",
       "      <td>2.00</td>\n",
       "      <td>1680</td>\n",
       "      <td>8080</td>\n",
       "      <td>1.0</td>\n",
       "      <td>NO</td>\n",
       "      <td>NONE</td>\n",
       "      <td>...</td>\n",
       "      <td>8 Good</td>\n",
       "      <td>1680</td>\n",
       "      <td>0.0</td>\n",
       "      <td>1987</td>\n",
       "      <td>0.0</td>\n",
       "      <td>98074</td>\n",
       "      <td>47.6168</td>\n",
       "      <td>-122.045</td>\n",
       "      <td>1800</td>\n",
       "      <td>7503</td>\n",
       "    </tr>\n",
       "    <tr>\n",
       "      <th>...</th>\n",
       "      <td>...</td>\n",
       "      <td>...</td>\n",
       "      <td>...</td>\n",
       "      <td>...</td>\n",
       "      <td>...</td>\n",
       "      <td>...</td>\n",
       "      <td>...</td>\n",
       "      <td>...</td>\n",
       "      <td>...</td>\n",
       "      <td>...</td>\n",
       "      <td>...</td>\n",
       "      <td>...</td>\n",
       "      <td>...</td>\n",
       "      <td>...</td>\n",
       "      <td>...</td>\n",
       "      <td>...</td>\n",
       "      <td>...</td>\n",
       "      <td>...</td>\n",
       "      <td>...</td>\n",
       "      <td>...</td>\n",
       "      <td>...</td>\n",
       "    </tr>\n",
       "    <tr>\n",
       "      <th>21592</th>\n",
       "      <td>263000018</td>\n",
       "      <td>5/21/2014</td>\n",
       "      <td>360000.0</td>\n",
       "      <td>3</td>\n",
       "      <td>2.50</td>\n",
       "      <td>1530</td>\n",
       "      <td>1131</td>\n",
       "      <td>3.0</td>\n",
       "      <td>NO</td>\n",
       "      <td>NONE</td>\n",
       "      <td>...</td>\n",
       "      <td>8 Good</td>\n",
       "      <td>1530</td>\n",
       "      <td>0.0</td>\n",
       "      <td>2009</td>\n",
       "      <td>0.0</td>\n",
       "      <td>98103</td>\n",
       "      <td>47.6993</td>\n",
       "      <td>-122.346</td>\n",
       "      <td>1530</td>\n",
       "      <td>1509</td>\n",
       "    </tr>\n",
       "    <tr>\n",
       "      <th>21593</th>\n",
       "      <td>6600060120</td>\n",
       "      <td>2/23/2015</td>\n",
       "      <td>400000.0</td>\n",
       "      <td>4</td>\n",
       "      <td>2.50</td>\n",
       "      <td>2310</td>\n",
       "      <td>5813</td>\n",
       "      <td>2.0</td>\n",
       "      <td>NO</td>\n",
       "      <td>NONE</td>\n",
       "      <td>...</td>\n",
       "      <td>8 Good</td>\n",
       "      <td>2310</td>\n",
       "      <td>0.0</td>\n",
       "      <td>2014</td>\n",
       "      <td>0.0</td>\n",
       "      <td>98146</td>\n",
       "      <td>47.5107</td>\n",
       "      <td>-122.362</td>\n",
       "      <td>1830</td>\n",
       "      <td>7200</td>\n",
       "    </tr>\n",
       "    <tr>\n",
       "      <th>21594</th>\n",
       "      <td>1523300141</td>\n",
       "      <td>6/23/2014</td>\n",
       "      <td>402101.0</td>\n",
       "      <td>2</td>\n",
       "      <td>0.75</td>\n",
       "      <td>1020</td>\n",
       "      <td>1350</td>\n",
       "      <td>2.0</td>\n",
       "      <td>NO</td>\n",
       "      <td>NONE</td>\n",
       "      <td>...</td>\n",
       "      <td>7 Average</td>\n",
       "      <td>1020</td>\n",
       "      <td>0.0</td>\n",
       "      <td>2009</td>\n",
       "      <td>0.0</td>\n",
       "      <td>98144</td>\n",
       "      <td>47.5944</td>\n",
       "      <td>-122.299</td>\n",
       "      <td>1020</td>\n",
       "      <td>2007</td>\n",
       "    </tr>\n",
       "    <tr>\n",
       "      <th>21595</th>\n",
       "      <td>291310100</td>\n",
       "      <td>1/16/2015</td>\n",
       "      <td>400000.0</td>\n",
       "      <td>3</td>\n",
       "      <td>2.50</td>\n",
       "      <td>1600</td>\n",
       "      <td>2388</td>\n",
       "      <td>2.0</td>\n",
       "      <td>NaN</td>\n",
       "      <td>NONE</td>\n",
       "      <td>...</td>\n",
       "      <td>8 Good</td>\n",
       "      <td>1600</td>\n",
       "      <td>0.0</td>\n",
       "      <td>2004</td>\n",
       "      <td>0.0</td>\n",
       "      <td>98027</td>\n",
       "      <td>47.5345</td>\n",
       "      <td>-122.069</td>\n",
       "      <td>1410</td>\n",
       "      <td>1287</td>\n",
       "    </tr>\n",
       "    <tr>\n",
       "      <th>21596</th>\n",
       "      <td>1523300157</td>\n",
       "      <td>10/15/2014</td>\n",
       "      <td>325000.0</td>\n",
       "      <td>2</td>\n",
       "      <td>0.75</td>\n",
       "      <td>1020</td>\n",
       "      <td>1076</td>\n",
       "      <td>2.0</td>\n",
       "      <td>NO</td>\n",
       "      <td>NONE</td>\n",
       "      <td>...</td>\n",
       "      <td>7 Average</td>\n",
       "      <td>1020</td>\n",
       "      <td>0.0</td>\n",
       "      <td>2008</td>\n",
       "      <td>0.0</td>\n",
       "      <td>98144</td>\n",
       "      <td>47.5941</td>\n",
       "      <td>-122.299</td>\n",
       "      <td>1020</td>\n",
       "      <td>1357</td>\n",
       "    </tr>\n",
       "  </tbody>\n",
       "</table>\n",
       "<p>21597 rows × 21 columns</p>\n",
       "</div>"
      ],
      "text/plain": [
       "               id        date     price  bedrooms  bathrooms  sqft_living  \\\n",
       "0      7129300520  10/13/2014  221900.0         3       1.00         1180   \n",
       "1      6414100192   12/9/2014  538000.0         3       2.25         2570   \n",
       "2      5631500400   2/25/2015  180000.0         2       1.00          770   \n",
       "3      2487200875   12/9/2014  604000.0         4       3.00         1960   \n",
       "4      1954400510   2/18/2015  510000.0         3       2.00         1680   \n",
       "...           ...         ...       ...       ...        ...          ...   \n",
       "21592   263000018   5/21/2014  360000.0         3       2.50         1530   \n",
       "21593  6600060120   2/23/2015  400000.0         4       2.50         2310   \n",
       "21594  1523300141   6/23/2014  402101.0         2       0.75         1020   \n",
       "21595   291310100   1/16/2015  400000.0         3       2.50         1600   \n",
       "21596  1523300157  10/15/2014  325000.0         2       0.75         1020   \n",
       "\n",
       "       sqft_lot  floors waterfront  view  ...          grade sqft_above  \\\n",
       "0          5650     1.0        NaN  NONE  ...      7 Average       1180   \n",
       "1          7242     2.0         NO  NONE  ...      7 Average       2170   \n",
       "2         10000     1.0         NO  NONE  ...  6 Low Average        770   \n",
       "3          5000     1.0         NO  NONE  ...      7 Average       1050   \n",
       "4          8080     1.0         NO  NONE  ...         8 Good       1680   \n",
       "...         ...     ...        ...   ...  ...            ...        ...   \n",
       "21592      1131     3.0         NO  NONE  ...         8 Good       1530   \n",
       "21593      5813     2.0         NO  NONE  ...         8 Good       2310   \n",
       "21594      1350     2.0         NO  NONE  ...      7 Average       1020   \n",
       "21595      2388     2.0        NaN  NONE  ...         8 Good       1600   \n",
       "21596      1076     2.0         NO  NONE  ...      7 Average       1020   \n",
       "\n",
       "       sqft_basement yr_built  yr_renovated  zipcode      lat     long  \\\n",
       "0                0.0     1955           0.0    98178  47.5112 -122.257   \n",
       "1              400.0     1951        1991.0    98125  47.7210 -122.319   \n",
       "2                0.0     1933           NaN    98028  47.7379 -122.233   \n",
       "3              910.0     1965           0.0    98136  47.5208 -122.393   \n",
       "4                0.0     1987           0.0    98074  47.6168 -122.045   \n",
       "...              ...      ...           ...      ...      ...      ...   \n",
       "21592            0.0     2009           0.0    98103  47.6993 -122.346   \n",
       "21593            0.0     2014           0.0    98146  47.5107 -122.362   \n",
       "21594            0.0     2009           0.0    98144  47.5944 -122.299   \n",
       "21595            0.0     2004           0.0    98027  47.5345 -122.069   \n",
       "21596            0.0     2008           0.0    98144  47.5941 -122.299   \n",
       "\n",
       "       sqft_living15  sqft_lot15  \n",
       "0               1340        5650  \n",
       "1               1690        7639  \n",
       "2               2720        8062  \n",
       "3               1360        5000  \n",
       "4               1800        7503  \n",
       "...              ...         ...  \n",
       "21592           1530        1509  \n",
       "21593           1830        7200  \n",
       "21594           1020        2007  \n",
       "21595           1410        1287  \n",
       "21596           1020        1357  \n",
       "\n",
       "[21597 rows x 21 columns]"
      ]
     },
     "execution_count": 30,
     "metadata": {},
     "output_type": "execute_result"
    }
   ],
   "source": [
    "load_data('data/kc_house_data.csv')  # Assuming 'data' folder is in the same directory\n",
    "\n",
    "\n"
   ]
  },
  {
   "cell_type": "markdown",
   "metadata": {},
   "source": [
    "The dataset contains 21 columns, each representing a distinct feature, and 21,597 rows, with each row corresponding to a specific house sale entry.\n",
    "\n",
    "The dataset contains a mix of data types, including integers (int64), floating-point numbers (float64), and objects (strings).  For instance, numerical features such as bedrooms, bathrooms, and sqft_living are represented as integers or floating-point numbers to facilitate mathematical computations, while categorical features like waterfront and view are stored as objects to accommodate text-based categories."
   ]
  },
  {
   "cell_type": "code",
   "execution_count": 31,
   "metadata": {},
   "outputs": [
    {
     "name": "stdout",
     "output_type": "stream",
     "text": [
      "The dataset contains 21597 houses with 21 features\n",
      "\n",
      "Columns and their data types:\n",
      "id: int64\n",
      "date: object\n",
      "price: float64\n",
      "bedrooms: int64\n",
      "bathrooms: float64\n",
      "sqft_living: int64\n",
      "sqft_lot: int64\n",
      "floors: float64\n",
      "waterfront: object\n",
      "view: object\n",
      "condition: object\n",
      "grade: object\n",
      "sqft_above: int64\n",
      "sqft_basement: object\n",
      "yr_built: int64\n",
      "yr_renovated: float64\n",
      "zipcode: int64\n",
      "lat: float64\n",
      "long: float64\n",
      "sqft_living15: int64\n",
      "sqft_lot15: int64\n",
      "\n"
     ]
    }
   ],
   "source": [
    "kings_data = load_data('data/kc_house_data.csv')"
   ]
  },
  {
   "cell_type": "code",
   "execution_count": 32,
   "metadata": {},
   "outputs": [],
   "source": [
    "#create a function that takes in a column and returns the column statistics as a dictionary\n",
    "def descriptive_analytics(column):\n",
    "    stats_dict = column.describe().to_dict()\n",
    "    \n",
    "    print(\"Descriptive Statistics for Column '{}':\".format(column.name))\n",
    "    print(\"The count of the column is:\", stats_dict['count'])\n",
    "    print(\"The mean of the column is:\", stats_dict['mean'])\n",
    "    print(\"The standard deviation of the column is:\", stats_dict['std'])\n",
    "    print(\"The minimum value of the column is:\", stats_dict['min'])\n",
    "    print(\"The 25th percentile of the column is:\", stats_dict['25%'])\n",
    "    print(\"The median of the column is:\", stats_dict['50%'])\n",
    "    print(\"The 75th percentile of the column is:\", stats_dict['75%'])\n",
    "    print(\"The maximum value of the column is:\", stats_dict['max'])"
   ]
  },
  {
   "cell_type": "code",
   "execution_count": 33,
   "metadata": {},
   "outputs": [
    {
     "name": "stdout",
     "output_type": "stream",
     "text": [
      "Descriptive Statistics for Column 'price':\n",
      "The count of the column is: 21597.0\n",
      "The mean of the column is: 540296.5735055795\n",
      "The standard deviation of the column is: 367368.1401013945\n",
      "The minimum value of the column is: 78000.0\n",
      "The 25th percentile of the column is: 322000.0\n",
      "The median of the column is: 450000.0\n",
      "The 75th percentile of the column is: 645000.0\n",
      "The maximum value of the column is: 7700000.0\n"
     ]
    }
   ],
   "source": [
    "descriptive_analytics(kings_data['price'])"
   ]
  },
  {
   "cell_type": "markdown",
   "metadata": {},
   "source": [
    "We can see that the maximum price of a house is 7700000 dollars  and the minimum price is 78000 dollars\n",
    "\n",
    "There are 21597 prices regarding to the houses in the dataset\n",
    "\n",
    "Average price of a house is 540296.57 dollars"
   ]
  },
  {
   "cell_type": "markdown",
   "metadata": {},
   "source": [
    "## Data Preperation\n",
    "\n"
   ]
  },
  {
   "cell_type": "code",
   "execution_count": 34,
   "metadata": {},
   "outputs": [
    {
     "name": "stdout",
     "output_type": "stream",
     "text": [
      "<class 'pandas.core.frame.DataFrame'>\n",
      "RangeIndex: 21597 entries, 0 to 21596\n",
      "Data columns (total 21 columns):\n",
      " #   Column         Non-Null Count  Dtype  \n",
      "---  ------         --------------  -----  \n",
      " 0   id             21597 non-null  int64  \n",
      " 1   date           21597 non-null  object \n",
      " 2   price          21597 non-null  float64\n",
      " 3   bedrooms       21597 non-null  int64  \n",
      " 4   bathrooms      21597 non-null  float64\n",
      " 5   sqft_living    21597 non-null  int64  \n",
      " 6   sqft_lot       21597 non-null  int64  \n",
      " 7   floors         21597 non-null  float64\n",
      " 8   waterfront     19221 non-null  object \n",
      " 9   view           21534 non-null  object \n",
      " 10  condition      21597 non-null  object \n",
      " 11  grade          21597 non-null  object \n",
      " 12  sqft_above     21597 non-null  int64  \n",
      " 13  sqft_basement  21597 non-null  object \n",
      " 14  yr_built       21597 non-null  int64  \n",
      " 15  yr_renovated   17755 non-null  float64\n",
      " 16  zipcode        21597 non-null  int64  \n",
      " 17  lat            21597 non-null  float64\n",
      " 18  long           21597 non-null  float64\n",
      " 19  sqft_living15  21597 non-null  int64  \n",
      " 20  sqft_lot15     21597 non-null  int64  \n",
      "dtypes: float64(6), int64(9), object(6)\n",
      "memory usage: 3.5+ MB\n"
     ]
    }
   ],
   "source": [
    "kings_data.info()"
   ]
  },
  {
   "cell_type": "code",
   "execution_count": 35,
   "metadata": {},
   "outputs": [],
   "source": [
    "def identify_issues(dataset):\n",
    "    # Identify missing values as a percentage of the whole dataset\n",
    "    missing_values = (dataset.isnull().sum())/len(dataset) * 100\n",
    "\n",
    "    # Identify duplicates\n",
    "    duplicates = dataset.duplicated().sum()\n",
    "    \n",
    "    #return a dictionary \n",
    "    return {'duplicates': duplicates,\n",
    "            'missing values': missing_values.round(2)}   \n"
   ]
  },
  {
   "cell_type": "code",
   "execution_count": 36,
   "metadata": {},
   "outputs": [
    {
     "data": {
      "text/plain": [
       "{'duplicates': 0,\n",
       " 'missing values': id                0.00\n",
       " date              0.00\n",
       " price             0.00\n",
       " bedrooms          0.00\n",
       " bathrooms         0.00\n",
       " sqft_living       0.00\n",
       " sqft_lot          0.00\n",
       " floors            0.00\n",
       " waterfront       11.00\n",
       " view              0.29\n",
       " condition         0.00\n",
       " grade             0.00\n",
       " sqft_above        0.00\n",
       " sqft_basement     0.00\n",
       " yr_built          0.00\n",
       " yr_renovated     17.79\n",
       " zipcode           0.00\n",
       " lat               0.00\n",
       " long              0.00\n",
       " sqft_living15     0.00\n",
       " sqft_lot15        0.00\n",
       " dtype: float64}"
      ]
     },
     "execution_count": 36,
     "metadata": {},
     "output_type": "execute_result"
    }
   ],
   "source": [
    "identify_issues(kings_data)"
   ]
  },
  {
   "cell_type": "markdown",
   "metadata": {},
   "source": [
    "The examination indicates that there are no duplicate entries within the dataset, ensuring the integrity of the records. However, attention is warranted to address missing values present in certain columns. Specifically, the 'waterfront' feature exhibits 11% of null values, representing a negligible portion of the dataset. Similarly, the 'yr_renovated' feature shows a relatively higher percentage of missing values, accounting for approximately 17.79% of the dataset"
   ]
  },
  {
   "cell_type": "markdown",
   "metadata": {},
   "source": [
    "##### Before making changes make a copy instead of overwriting data"
   ]
  },
  {
   "cell_type": "code",
   "execution_count": 37,
   "metadata": {},
   "outputs": [],
   "source": [
    "house_data_clean = kings_data.copy()"
   ]
  },
  {
   "cell_type": "code",
   "execution_count": 38,
   "metadata": {},
   "outputs": [],
   "source": [
    "# Changing the date to date time\n",
    "house_data_clean['date'] = pd.to_datetime(house_data_clean['date'])\n",
    "\n",
    "# Extracting only the year from the column Date\n",
    "house_data_clean.date = house_data_clean['date'].dt.year\n",
    "\n",
    "# Changing the dates for the year built \n",
    "house_data_clean['yr_built'] = pd.to_datetime(house_data_clean['yr_built'],format='%Y').dt.year\n"
   ]
  },
  {
   "cell_type": "markdown",
   "metadata": {},
   "source": [
    "The above code converts the 'date' column data to only contain the year the house was sold, for the purpose of analysis we will use only the year since the changes month by month will be minor."
   ]
  },
  {
   "cell_type": "markdown",
   "metadata": {},
   "source": [
    "#### Dealing with the missing values"
   ]
  },
  {
   "cell_type": "code",
   "execution_count": 39,
   "metadata": {},
   "outputs": [],
   "source": [
    "def missing_values(dataset):\n",
    "    # drop the rows from views\n",
    "    dataset.dropna(subset=['view'],inplace=True)\n",
    "\n",
    "    # Filling the NaN values for waterfront with NO\n",
    "    dataset.waterfront.fillna('NO',inplace=True)\n",
    "    \n",
    "    # Dropping the yr_renovated column \n",
    "    dataset.drop('yr_renovated',axis=1,inplace=True)"
   ]
  },
  {
   "cell_type": "code",
   "execution_count": 40,
   "metadata": {},
   "outputs": [],
   "source": [
    "missing_values(house_data_clean)"
   ]
  },
  {
   "cell_type": "markdown",
   "metadata": {},
   "source": [
    "'yr_renovated' has the highest percentage of NaN values 17%. This will be dropped since it will not be used within our model inline with the business problem.\n",
    "\n",
    "'Waterfront' feature has 11% null values, this was filled with NO on the assumption that these cells were not filled since they lacked waterfronts\n",
    "\n",
    "For the 'View' column, the null values were dropped by row since the overall percentage impact would be minute"
   ]
  },
  {
   "cell_type": "code",
   "execution_count": 41,
   "metadata": {},
   "outputs": [
    {
     "data": {
      "text/plain": [
       "{'duplicates': 2,\n",
       " 'missing values': id               0.0\n",
       " date             0.0\n",
       " price            0.0\n",
       " bedrooms         0.0\n",
       " bathrooms        0.0\n",
       " sqft_living      0.0\n",
       " sqft_lot         0.0\n",
       " floors           0.0\n",
       " waterfront       0.0\n",
       " view             0.0\n",
       " condition        0.0\n",
       " grade            0.0\n",
       " sqft_above       0.0\n",
       " sqft_basement    0.0\n",
       " yr_built         0.0\n",
       " zipcode          0.0\n",
       " lat              0.0\n",
       " long             0.0\n",
       " sqft_living15    0.0\n",
       " sqft_lot15       0.0\n",
       " dtype: float64}"
      ]
     },
     "execution_count": 41,
     "metadata": {},
     "output_type": "execute_result"
    }
   ],
   "source": [
    "identify_issues(house_data_clean)"
   ]
  },
  {
   "cell_type": "code",
   "execution_count": 42,
   "metadata": {},
   "outputs": [
    {
     "data": {
      "text/html": [
       "<div>\n",
       "<style scoped>\n",
       "    .dataframe tbody tr th:only-of-type {\n",
       "        vertical-align: middle;\n",
       "    }\n",
       "\n",
       "    .dataframe tbody tr th {\n",
       "        vertical-align: top;\n",
       "    }\n",
       "\n",
       "    .dataframe thead th {\n",
       "        text-align: right;\n",
       "    }\n",
       "</style>\n",
       "<table border=\"1\" class=\"dataframe\">\n",
       "  <thead>\n",
       "    <tr style=\"text-align: right;\">\n",
       "      <th></th>\n",
       "      <th>id</th>\n",
       "      <th>date</th>\n",
       "      <th>price</th>\n",
       "      <th>bedrooms</th>\n",
       "      <th>bathrooms</th>\n",
       "      <th>sqft_living</th>\n",
       "      <th>sqft_lot</th>\n",
       "      <th>floors</th>\n",
       "      <th>waterfront</th>\n",
       "      <th>view</th>\n",
       "      <th>condition</th>\n",
       "      <th>grade</th>\n",
       "      <th>sqft_above</th>\n",
       "      <th>sqft_basement</th>\n",
       "      <th>yr_built</th>\n",
       "      <th>zipcode</th>\n",
       "      <th>lat</th>\n",
       "      <th>long</th>\n",
       "      <th>sqft_living15</th>\n",
       "      <th>sqft_lot15</th>\n",
       "    </tr>\n",
       "  </thead>\n",
       "  <tbody>\n",
       "    <tr>\n",
       "      <th>3947</th>\n",
       "      <td>1825069031</td>\n",
       "      <td>2014</td>\n",
       "      <td>550000.0</td>\n",
       "      <td>4</td>\n",
       "      <td>1.75</td>\n",
       "      <td>2410</td>\n",
       "      <td>8447</td>\n",
       "      <td>2.0</td>\n",
       "      <td>NO</td>\n",
       "      <td>GOOD</td>\n",
       "      <td>Good</td>\n",
       "      <td>8 Good</td>\n",
       "      <td>2060</td>\n",
       "      <td>350.0</td>\n",
       "      <td>1936</td>\n",
       "      <td>98074</td>\n",
       "      <td>47.6499</td>\n",
       "      <td>-122.088</td>\n",
       "      <td>2520</td>\n",
       "      <td>14789</td>\n",
       "    </tr>\n",
       "    <tr>\n",
       "      <th>20038</th>\n",
       "      <td>8648900110</td>\n",
       "      <td>2014</td>\n",
       "      <td>555000.0</td>\n",
       "      <td>3</td>\n",
       "      <td>2.50</td>\n",
       "      <td>1940</td>\n",
       "      <td>3211</td>\n",
       "      <td>2.0</td>\n",
       "      <td>NO</td>\n",
       "      <td>NONE</td>\n",
       "      <td>Average</td>\n",
       "      <td>8 Good</td>\n",
       "      <td>1940</td>\n",
       "      <td>0.0</td>\n",
       "      <td>2009</td>\n",
       "      <td>98027</td>\n",
       "      <td>47.5644</td>\n",
       "      <td>-122.093</td>\n",
       "      <td>1880</td>\n",
       "      <td>3078</td>\n",
       "    </tr>\n",
       "  </tbody>\n",
       "</table>\n",
       "</div>"
      ],
      "text/plain": [
       "               id  date     price  bedrooms  bathrooms  sqft_living  sqft_lot  \\\n",
       "3947   1825069031  2014  550000.0         4       1.75         2410      8447   \n",
       "20038  8648900110  2014  555000.0         3       2.50         1940      3211   \n",
       "\n",
       "       floors waterfront  view condition   grade  sqft_above sqft_basement  \\\n",
       "3947      2.0         NO  GOOD      Good  8 Good        2060         350.0   \n",
       "20038     2.0         NO  NONE   Average  8 Good        1940           0.0   \n",
       "\n",
       "       yr_built  zipcode      lat     long  sqft_living15  sqft_lot15  \n",
       "3947       1936    98074  47.6499 -122.088           2520       14789  \n",
       "20038      2009    98027  47.5644 -122.093           1880        3078  "
      ]
     },
     "execution_count": 42,
     "metadata": {},
     "output_type": "execute_result"
    }
   ],
   "source": [
    "house_data_clean[house_data_clean.duplicated()]"
   ]
  },
  {
   "cell_type": "markdown",
   "metadata": {},
   "source": [
    "# Exploratory Data Analysis"
   ]
  },
  {
   "cell_type": "markdown",
   "metadata": {},
   "source": [
    "### King County Housing Analysis and Visualization"
   ]
  },
  {
   "cell_type": "markdown",
   "metadata": {},
   "source": [
    "In the exploratory phase of data analysis, histograms and box plots play pivotal roles in understanding the distribution patterns of variables. Histograms provide a visual representation of the frequency and spread of values within each variable, offering valuable insights into the data's central tendencies and variability. Meanwhile, box plots offer a concise summary of the data's distribution, including measures of central tendency, variability, and the presence of potential outliers. Together, these visualizations provide a comprehensive overview of the dataset's characteristics, laying the groundwork for deeper analysis and informing subsequent modeling and decision-making processes."
   ]
  },
  {
   "cell_type": "markdown",
   "metadata": {},
   "source": [
    "### Data Analysis"
   ]
  },
  {
   "cell_type": "code",
   "execution_count": 43,
   "metadata": {},
   "outputs": [],
   "source": [
    "def calculate_statistics(df, column_name):\n",
    "    #calculate mean\n",
    "    mean_value = df[column_name].mean()\n",
    "    #calculate mode, and pick the first if multiple mode exist\n",
    "    mode_value = df[column_name].mode()[0]\n",
    "    #calculating median\n",
    "    median_value = house_data_clean[column_name].median()\n",
    "    #calculating std\n",
    "    std_value = df[column_name].std()\n",
    "\n",
    "    # Create a dictionary to store the statistics\n",
    "    statistics = {\n",
    "        \"Mean\": mean_value,\n",
    "        \"Mode\": mode_value,\n",
    "        \"Median\": median_value,\n",
    "        \"Standard Deviation\": std_value\n",
    "    }\n",
    "    return statistics"
   ]
  },
  {
   "cell_type": "code",
   "execution_count": 44,
   "metadata": {},
   "outputs": [
    {
     "data": {
      "text/plain": [
       "{'Mean': 540057.663833937,\n",
       " 'Mode': 350000.0,\n",
       " 'Median': 450000.0,\n",
       " 'Standard Deviation': 366059.58123129635}"
      ]
     },
     "execution_count": 44,
     "metadata": {},
     "output_type": "execute_result"
    }
   ],
   "source": [
    "calculate_statistics(house_data_clean, \"price\")"
   ]
  },
  {
   "cell_type": "markdown",
   "metadata": {},
   "source": [
    "This code snippet categorizes columns with numeric values from the DataFrame house_data_clean and prints them out"
   ]
  },
  {
   "cell_type": "code",
   "execution_count": 45,
   "metadata": {},
   "outputs": [
    {
     "name": "stdout",
     "output_type": "stream",
     "text": [
      "These are columns with numerical values:\n",
      " ['id', 'date', 'price', 'bedrooms', 'bathrooms', 'sqft_living', 'sqft_lot', 'floors', 'sqft_above', 'yr_built', 'zipcode', 'lat', 'long', 'sqft_living15', 'sqft_lot15']\n"
     ]
    }
   ],
   "source": [
    "# Initialize lists for numeric columns\n",
    "numeric_columns = []\n",
    "\n",
    "\n",
    "# Iterate through columns and categorize them based on data type\n",
    "for column in house_data_clean.columns:\n",
    "        if house_data_clean[column].dtype in ['int64', 'float64']:  # Check if the column data type is numeric\n",
    "            numeric_columns.append(column)\n",
    "    \n",
    "            \n",
    "print (\"These are columns with numerical values:\\n\",numeric_columns)"
   ]
  },
  {
   "cell_type": "code",
   "execution_count": 46,
   "metadata": {},
   "outputs": [
    {
     "data": {
      "image/png": "[encoded data removed]",
      "text/plain": [
       "<Figure size 720x576 with 2 Axes>"
      ]
     },
     "metadata": {
      "needs_background": "light"
     },
     "output_type": "display_data"
    }
   ],
   "source": [
    "#This code snippet calculates the correlation matrix for numeric columns in the kings_data DataFrame and visualizes it using a heatmap.\n",
    "numeric_columns = kings_data.select_dtypes(include=['int64', 'float64'])\n",
    "# Calculate the correlation matrix\n",
    "correlation_matrix = numeric_columns.corr()\n",
    "    \n",
    "# Plot heatmap\n",
    "plt.figure(figsize=(10, 8))\n",
    "sns.heatmap(correlation_matrix, annot=True, cmap='coolwarm', fmt=\".2f\", vmin=-1, vmax=1)\n",
    "plt.title('Heatmap of Correlation Matrix for Numeric Columns')\n",
    "plt.show()"
   ]
  },
  {
   "cell_type": "markdown",
   "metadata": {},
   "source": [
    "Perfect positive correlation (1): Variables increase together perfectly.\n",
    "High positive correlation (0.7 to 1): Variables mostly move in the same direction strongly.\n",
    "Moderate positive correlation (0.3 to 0.7): Variables tend to move together moderately.\n",
    "Weak positive correlation (0 to 0.3): Variables show a weak, inconsistent relationship.\n",
    "No correlation (0): Variables are independent of each other.\n",
    "Weak negative correlation (-0.3 to 0): Weak, inconsistent negative relationship.\n",
    "Moderate negative correlation (-0.7 to -0.3): Moderate negative relationship.\n",
    "High negative correlation (-1 to -0.7): Variables move strongly in opposite directions.\n",
    "Perfect negative correlation (-1): Variables decrease together perfectly."
   ]
  },
  {
   "cell_type": "code",
   "execution_count": 47,
   "metadata": {},
   "outputs": [],
   "source": [
    "house_data_clean.drop(columns=['date', 'sqft_lot', 'condition', 'zipcode', 'long', 'sqft_lot15', 'yr_built', 'lat'], inplace=True)"
   ]
  },
  {
   "cell_type": "markdown",
   "metadata": {},
   "source": [
    "#### Analysis for categorical columns"
   ]
  },
  {
   "cell_type": "markdown",
   "metadata": {},
   "source": [
    "This code snippet visualizes the relationship between the 'waterfront' feature and the average sale price. A bar plot is used to show the average price for properties with and without waterfront. "
   ]
  },
  {
   "cell_type": "code",
   "execution_count": 48,
   "metadata": {},
   "outputs": [
    {
     "data": {
      "image/png": "[encoded data removed]",
      "text/plain": [
       "<Figure size 504x360 with 1 Axes>"
      ]
     },
     "metadata": {
      "needs_background": "light"
     },
     "output_type": "display_data"
    }
   ],
   "source": [
    "Categorical = ['waterfront', 'condition', 'grade'] \n",
    "\n",
    "# How waterfront relates to saleprice\n",
    "# plot the barplot\n",
    "plt.figure(figsize = (7,5))\n",
    "kings_data.groupby('waterfront')['price'].mean().plot.bar()\n",
    "\n",
    "# set the axes and title\n",
    "plt.xlabel(column)\n",
    "plt.ylabel('Average price')\n",
    "plt.title('Waterfont vs Sales')\n",
    "\n",
    "# display the plot\n",
    "plt.show()"
   ]
  },
  {
   "cell_type": "markdown",
   "metadata": {},
   "source": [
    "The plot above clearly shows that houses with waterfronts are the most popular and sells the most"
   ]
  },
  {
   "cell_type": "markdown",
   "metadata": {},
   "source": [
    "This code snippet visualizes the relationship between the 'condition' feature and the average sale price. A bar plot is used to show the average price for properties with different conditions. "
   ]
  },
  {
   "cell_type": "code",
   "execution_count": 49,
   "metadata": {},
   "outputs": [
    {
     "data": {
      "image/png": "[encoded data removed]",
      "text/plain": [
       "<Figure size 504x360 with 1 Axes>"
      ]
     },
     "metadata": {
      "needs_background": "light"
     },
     "output_type": "display_data"
    }
   ],
   "source": [
    "# How condition relates to saleprice\n",
    "# plot the barplot\n",
    "plt.figure(figsize = (7,5))\n",
    "kings_data.groupby('condition')['price'].mean().plot.bar()\n",
    "\n",
    "# set the axes and title\n",
    "plt.xlabel(column)\n",
    "plt.ylabel('Average price')\n",
    "plt.title('Condition vs Sales')\n",
    "\n",
    "# display the plot\n",
    "plt.show()"
   ]
  },
  {
   "cell_type": "markdown",
   "metadata": {},
   "source": [
    "The houses that are in good cnditions are the most popular"
   ]
  },
  {
   "cell_type": "markdown",
   "metadata": {},
   "source": [
    "This code snippet visualizes the relationship between the 'grade' feature and the average sale price. A bar plot is used to show the average price for properties with different grades. "
   ]
  },
  {
   "cell_type": "code",
   "execution_count": 50,
   "metadata": {},
   "outputs": [
    {
     "data": {
      "image/png": "[encoded data removed]",
      "text/plain": [
       "<Figure size 504x360 with 1 Axes>"
      ]
     },
     "metadata": {
      "needs_background": "light"
     },
     "output_type": "display_data"
    }
   ],
   "source": [
    "# How grade relates to saleprice\n",
    "# plot the barplot\n",
    "plt.figure(figsize = (7,5))\n",
    "kings_data.groupby('grade')['price'].mean().plot.bar()\n",
    "\n",
    "# set the axes and title\n",
    "plt.xlabel(column)\n",
    "plt.ylabel('Average price')\n",
    "plt.title('Grade vs Sales')\n",
    "\n",
    "# display the plot\n",
    "plt.show()"
   ]
  },
  {
   "cell_type": "markdown",
   "metadata": {},
   "source": [
    "compairing mansions with the others u can tell its the highest selling "
   ]
  },
  {
   "cell_type": "code",
   "execution_count": 51,
   "metadata": {},
   "outputs": [
    {
     "data": {
      "image/png": "[encoded data removed]",
      "text/plain": [
       "<Figure size 432x288 with 1 Axes>"
      ]
     },
     "metadata": {
      "needs_background": "light"
     },
     "output_type": "display_data"
    },
    {
     "data": {
      "image/png": "[encoded data removed]",
      "text/plain": [
       "<Figure size 432x288 with 1 Axes>"
      ]
     },
     "metadata": {
      "needs_background": "light"
     },
     "output_type": "display_data"
    },
    {
     "data": {
      "image/png": "[encoded data removed]",
      "text/plain": [
       "<Figure size 432x288 with 1 Axes>"
      ]
     },
     "metadata": {
      "needs_background": "light"
     },
     "output_type": "display_data"
    }
   ],
   "source": [
    "#This code snippet iterates through the categorical columns specified in the list `Categorical` and creates bar charts to visualize the count of each category\n",
    "for column in Categorical:\n",
    "    plt.figure()\n",
    "    kings_data[column].value_counts().plot.bar()\n",
    "    plt.xlabel(column)\n",
    "    plt.ylabel('Count')\n",
    "    plt.title(column)\n",
    "    plt.show()"
   ]
  },
  {
   "cell_type": "code",
   "execution_count": 52,
   "metadata": {},
   "outputs": [],
   "source": [
    "#This function creates subplots of boxplots for each numeric column in the DataFrame, allowing for visualization of the data distribution and identification of outliers. Adjust the parameters and example usage according to your DataFrame and preferences.\n",
    "\n",
    "def check_for_outliers_and_plot_boxplot(df, numeric_columns_list, figsize=(12, 12)):\n",
    "    \n",
    "    # Calculate number of subplots\n",
    "    num_plots = len(numeric_columns)\n",
    "    num_cols = 2  # Number of columns in each row of subplots\n",
    "    num_rows = (num_plots + 1) // num_cols\n",
    "    \n",
    "    # Create subplots\n",
    "    fig, axes = plt.subplots(num_rows, num_cols, figsize=figsize)\n",
    "    axes = axes.flatten()\n",
    "\n",
    "\n",
    "    # Plot boxplots for each column\n",
    "    for i, column in enumerate(numeric_columns):\n",
    "      sns.boxplot(x=df[column], ax=axes[i])\n",
    "      axes[i].set_title(f'Boxplot of {column}')\n",
    "      axes[i].set_xlabel(column)\n",
    "      \n",
    "      \n",
    "    "
   ]
  },
  {
   "cell_type": "code",
   "execution_count": 53,
   "metadata": {},
   "outputs": [],
   "source": [
    "check_for_outliers_and_plot_boxplot(house_data_clean, numeric_columns, figsize=(12, 12))"
   ]
  },
  {
   "cell_type": "markdown",
   "metadata": {},
   "source": [
    "From the illustration you can see the data set has outliers "
   ]
  },
  {
   "cell_type": "markdown",
   "metadata": {},
   "source": [
    "This function removes outliers from the specified column(s) in the DataFrame based on Z-scores, with an option to set a custom threshold. ."
   ]
  },
  {
   "cell_type": "code",
   "execution_count": null,
   "metadata": {},
   "outputs": [],
   "source": [
    "def remove_outliers_by_zscore(df, col, threshold=3):\n",
    "    \n",
    "    # Iterate over each specified column\n",
    "    for column in col:\n",
    "        # Calculate Z-scores for the column\n",
    "        z_scores = (df[column] - df[column].mean()) / df[column].std()\n",
    "        # Filter rows where Z-score exceeds the threshold\n",
    "        df_cleaned = df[(z_scores.abs() < threshold)]\n",
    "    \n",
    "    return df_cleaned"
   ]
  },
  {
   "cell_type": "code",
   "execution_count": null,
   "metadata": {},
   "outputs": [],
   "source": [
    "cleaned_data = remove_outliers_by_zscore(house_data_clean, numeric_columns, threshold=3)\n",
    "cleaned_data\n"
   ]
  },
  {
   "cell_type": "markdown",
   "metadata": {},
   "source": [
    "This will return a DataFrame with outliers removed from the specified numeric columns based on their Z-scores, using a threshold of 3."
   ]
  },
  {
   "cell_type": "code",
   "execution_count": null,
   "metadata": {},
   "outputs": [],
   "source": [
    "# Plotting a histogram with kernel density estimate (KDE) of the \"price\" variable\n",
    "plt.figure(figsize=(10,4))\n",
    "price_dist = sns.distplot(kings_data[\"price\"])\n",
    "price_dist.set(xlabel=\"Price in Millions\", title=\"Price Density of Houses in King's County\")\n",
    "plt.savefig('Visualization2')  # Save the plot as an image file"
   ]
  },
  {
   "cell_type": "markdown",
   "metadata": {},
   "source": [
    "The observation reveals that the distribution of house is right-skewed.we look at house prices, we notice that most houses are not very expensive, but there are a few that are very pricey."
   ]
  },
  {
   "cell_type": "code",
   "execution_count": null,
   "metadata": {},
   "outputs": [],
   "source": [
    "#This code snippet creates a scatter plot matrix for the house data, with each numeric variable plotted against the 'price'.\n",
    "# creating a list of all column names\n",
    "plot_list = list(house_data_clean.columns)\n",
    "len(plot_list)\n",
    "fig, axes = plt.subplots(nrows=5, ncols=4, figsize=(19,20))\n",
    "axes = axes.flatten() # flatten the array to make it easier to iterate over\n",
    "\n",
    "for i, xcol in enumerate(plot_list[0:19]):\n",
    "    fig.patch.set_facecolor('whitesmoke')\n",
    "    house_data_clean.plot(kind='scatter', x=xcol, y='price', ax=axes[i], alpha=0.4, color='Purple', marker='^')\n",
    "    \n",
    "plt.show() # add this to display the plot"
   ]
  },
  {
   "cell_type": "markdown",
   "metadata": {},
   "source": [
    "## Simple Linear Model\n",
    "\n",
    "From our EDA we can see that 'sqft_living' has the highest correlation with price, thus we'll use this as the independent variable for our analysis"
   ]
  },
  {
   "cell_type": "code",
   "execution_count": null,
   "metadata": {},
   "outputs": [],
   "source": [
    "# Create variables for our independent and dependent features\n",
    "X = house_data_clean['sqft_living']\n",
    "y = house_data_clean['price']"
   ]
  },
  {
   "cell_type": "code",
   "execution_count": null,
   "metadata": {},
   "outputs": [],
   "source": [
    "#create a function to create regression models\n",
    "def regression(X_value, y_value):\n",
    "    # create the model\n",
    "    model = sm.OLS(y_value, sm.add_constant(X_value))\n",
    "    \n",
    "    #Fit the model\n",
    "    results = model.fit()\n",
    "\n",
    "    return results"
   ]
  },
  {
   "cell_type": "code",
   "execution_count": null,
   "metadata": {},
   "outputs": [],
   "source": [
    "#call the simple_regression function and store output in results variable\n",
    "simple_model_results = regression(X, y)"
   ]
  },
  {
   "cell_type": "code",
   "execution_count": null,
   "metadata": {},
   "outputs": [],
   "source": [
    "#create a function for analysing regression results\n",
    "def regression_analysis(regression_results):\n",
    "    #Models P_Value\n",
    "    results_pvalue = regression_results.f_pvalue\n",
    "\n",
    "    #Model Rsquared\n",
    "    r_squared = regression_results.rsquared\n",
    "\n",
    "    #Parameters\n",
    "    coeffecients = regression_results.params\n",
    "\n",
    "    return {'Model R-Squared': r_squared,\n",
    "            'Model P_value': results_pvalue,\n",
    "            'Coeffecients': coeffecients, \n",
    "           }\n",
    "    "
   ]
  },
  {
   "cell_type": "code",
   "execution_count": null,
   "metadata": {},
   "outputs": [],
   "source": [
    "#calling the simple regression analysis function to get summary\n",
    "simple_regression_analysis(simple_model_results)"
   ]
  },
  {
   "cell_type": "markdown",
   "metadata": {},
   "source": [
    "From the results above we get that:\n",
    "Our model is statistically significant, with a p-value well below the standard alpha of 0.05\n",
    "\n",
    "Our model explains about 43.0% of the variance in home price, the dependent variable\n",
    "\n",
    "For a house with 0 squarefoot of living area, our model would predict a home price of about 15203.833 dollars. \n",
    "\n",
    "An increase of 1 square foot in living area  is associated with an increase of about 280.86 dollars in house price."
   ]
  },
  {
   "cell_type": "markdown",
   "metadata": {},
   "source": [
    "#### Assumptions of linear regression\n",
    "\n",
    "Linear regression makes several assumptions about the data, such as :\n",
    "\n",
    "Linearity of the data. The relationship between the predictor (x) and the outcome (y) is assumed to be linear.\n",
    "\n",
    "Normality of residuals. The residual errors are assumed to be normally distributed.\n",
    "\n",
    "Homogeneity of residuals variance. The residuals are assumed to have a constant variance (homoscedasticity)\n",
    "\n",
    "Independence of residuals error terms."
   ]
  },
  {
   "cell_type": "code",
   "execution_count": null,
   "metadata": {},
   "outputs": [],
   "source": [
    "# creating a function to check the assumptions of linear regression\n",
    "def check_regression_assumptions(results):\n",
    "     \n",
    "    # Residuals\n",
    "    residuals = results.resid\n",
    "    \n",
    "     # Create subplots\n",
    "    fig, axes = plt.subplots(2, 2, figsize=(14, 10))\n",
    "    \n",
    "    # Linearity Check (Fitted Values vs. Residuals Plot)\n",
    "    sns.residplot(x=results.fittedvalues, y=residuals, lowess=True, line_kws={'color': 'red', 'lw': 1}, ax=axes[0, 0])\n",
    "    axes[0, 0].set_title('Linearity Check: Fitted Values vs. Residuals')\n",
    "    axes[0, 0].set_xlabel('Fitted values')\n",
    "    axes[0, 0].set_ylabel('Residuals')\n",
    "    \n",
    "    # Independence of Residuals (Durbin-Watson Statistic)\n",
    "    dw_statistic = sm.stats.stattools.durbin_watson(residuals)\n",
    "    axes[0, 1].text(0.5, 0.5, f'Durbin-Watson statistic: {dw_statistic}', fontsize=12, ha='center')\n",
    "    axes[0, 1].axis('off') \n",
    "    \n",
    "    # Homoscedasticity Check (Residuals vs. Fitted Values Plot)\n",
    "    sns.residplot(x=results.fittedvalues, y=residuals, lowess=True, line_kws={'color': 'red', 'lw': 1}, ax=axes[1, 0])\n",
    "    axes[1, 0].set_title('Homoscedasticity Check: Fitted Values vs. Residuals')\n",
    "    axes[1, 0].set_xlabel('Fitted values')\n",
    "    axes[1, 0].set_ylabel('Residuals')\n",
    "    \n",
    "    # Normality of Residuals Check (Histogram and Q-Q Plot)\n",
    "    sns.histplot(residuals, kde=True, color='blue', bins=20, ax=axes[1, 1])\n",
    "    axes[1, 1].set_title('Histogram of Residuals')\n",
    "    axes[1, 1].set_xlabel('Residuals')\n",
    "    axes[1, 1].set_ylabel('Frequency')\n",
    "    \n",
    "    # Show plot\n",
    "    plt.tight_layout()\n",
    "    plt.show()"
   ]
  },
  {
   "cell_type": "code",
   "execution_count": null,
   "metadata": {},
   "outputs": [],
   "source": [
    "# call our function to check on our simple regression model\n",
    "check_regression_assumptions(simple_model_results)"
   ]
  },
  {
   "cell_type": "markdown",
   "metadata": {},
   "source": [
    "From the output above we can interpret the results as:\n",
    "\n",
    "* Durbin-Watson statistic of approximately 1.98, shows that there is no significant autocorrelation in the residuals, which is a favorable result for your regression analysis\n",
    "* The linearity check plot shows a random scatter of points around the horizontal axis, which suggests that the linearity assumption is reasonable, indicating that the relationship between the independent variables and the dependent variable is approximately linear.\n",
    "* In the  homoscedasticity plot we can observe a pattern of a 'funnel shape', it suggests that the homoscedasticity assumption may be violated, indicating heteroscedasticity.\n",
    "* The Q-Q plot, shows the points fall close to the diagonal line, it suggests that the residuals follow a normal distribution."
   ]
  },
  {
   "cell_type": "markdown",
   "metadata": {},
   "source": [
    "#### Shortcomings of the simple linear regression\n",
    "\n",
    "Simple linear regression assumes that the residuals are normally distributed with constant variance. However, in real-world data, the assumptions of normality and homoscedasticity may be violated, leading to biased estimates and unreliable inference\n",
    "\n",
    "House prices are influenced by a multitude of factors beyond just square footage. Ignoring these factors in favor of a simple linear model may result in omitted variable bias and inaccurate predictions.\n",
    "\n",
    "The r-squared value indicates that our simple regression model only explains 43.0% variation in home price and this is not extremely high"
   ]
  }
 ],
 "metadata": {
  "kernelspec": {
   "display_name": "Python 3",
   "language": "python",
   "name": "python3"
  },
  "language_info": {
   "codemirror_mode": {
    "name": "ipython",
    "version": 3
   },
   "file_extension": ".py",
   "mimetype": "text/x-python",
   "name": "python",
   "nbconvert_exporter": "python",
   "pygments_lexer": "ipython3",
   "version": "3.8.5"
  }
 },
 "nbformat": 4,
 "nbformat_minor": 2
}
